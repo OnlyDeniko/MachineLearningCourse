{
 "cells": [
  {
   "cell_type": "markdown",
   "metadata": {},
   "source": [
    "## Предсказать превышает ли доход конкретного человека 50.000$ в год, основываясь на данных переписи населения в США\n",
    "https://archive.ics.uci.edu/ml/datasets/Adult"
   ]
  },
  {
   "cell_type": "markdown",
   "metadata": {},
   "source": [
    "### Весь препроцессинг и деление данных на выборки скопированы из прошлой домашней работы"
   ]
  },
  {
   "cell_type": "markdown",
   "metadata": {},
   "source": []
  },
  {
   "cell_type": "code",
   "execution_count": 1,
   "metadata": {},
   "outputs": [],
   "source": [
    "import numpy as np\n",
    "import matplotlib.pyplot as plt\n",
    "%matplotlib inline \n",
    "import pandas as pd\n",
    "import seaborn as sns\n",
    "import sklearn\n",
    "from sklearn.datasets import fetch_openml"
   ]
  },
  {
   "cell_type": "code",
   "execution_count": 2,
   "metadata": {},
   "outputs": [],
   "source": [
    "data = pd.read_csv('adult.data')\n",
    "test = pd.read_csv('adult.test')"
   ]
  },
  {
   "cell_type": "code",
   "execution_count": 3,
   "metadata": {},
   "outputs": [],
   "source": [
    "# объединяем выборки\n",
    "X = pd.concat([data, test], sort=False, axis=0, ignore_index=True)"
   ]
  },
  {
   "cell_type": "code",
   "execution_count": 4,
   "metadata": {},
   "outputs": [],
   "source": [
    "# как можно заметить, последний столбец отражает какому классу принадлежит человек.\n",
    "# Сделаем отдельный вектор столбцов и приведем его к виду 0 - <=50K, 1 - >50K\n",
    "\n",
    "X['class'] = X['class'].apply(lambda x: '>50K' in x)\n",
    "y = X['class'].copy()\n",
    "# X.drop('class', axis=1, inplace=True)"
   ]
  },
  {
   "cell_type": "code",
   "execution_count": 5,
   "metadata": {},
   "outputs": [
    {
     "name": "stdout",
     "output_type": "stream",
     "text": [
      "age : number\n",
      "workclass : ['State-gov' 'Self-emp-not-inc' 'Private' 'Federal-gov' 'Local-gov' '?'\n",
      " 'Self-emp-inc' 'Without-pay' 'Never-worked']\n",
      "fnlwgt : number\n",
      "education : ['Bachelors' 'HS-grad' '11th' 'Masters' '9th' 'Some-college' 'Assoc-acdm'\n",
      " 'Assoc-voc' '7th-8th' 'Doctorate' 'Prof-school' '5th-6th' '10th'\n",
      " '1st-4th' 'Preschool' '12th']\n",
      "education-num : number\n",
      "marital-status : ['Never-married' 'Married-civ-spouse' 'Divorced' 'Married-spouse-absent'\n",
      " 'Separated' 'Married-AF-spouse' 'Widowed']\n",
      "occupation : ['Adm-clerical' 'Exec-managerial' 'Handlers-cleaners' 'Prof-specialty'\n",
      " 'Other-service' 'Sales' 'Craft-repair' 'Transport-moving'\n",
      " 'Farming-fishing' 'Machine-op-inspct' 'Tech-support' '?'\n",
      " 'Protective-serv' 'Armed-Forces' 'Priv-house-serv']\n",
      "relationship : ['Not-in-family' 'Husband' 'Wife' 'Own-child' 'Unmarried' 'Other-relative']\n",
      "race : ['White' 'Black' 'Asian-Pac-Islander' 'Amer-Indian-Eskimo' 'Other']\n",
      "sex : ['Male' 'Female']\n",
      "capital-gain : number\n",
      "capital-loss : number\n",
      "hours-per-week : number\n",
      "native-country : ['United-States' 'Cuba' 'Jamaica' 'India' '?' 'Mexico' 'South'\n",
      " 'Puerto-Rico' 'Honduras' 'England' 'Canada' 'Germany' 'Iran'\n",
      " 'Philippines' 'Italy' 'Poland' 'Columbia' 'Cambodia' 'Thailand' 'Ecuador'\n",
      " 'Laos' 'Taiwan' 'Haiti' 'Portugal' 'Dominican-Republic' 'El-Salvador'\n",
      " 'France' 'Guatemala' 'China' 'Japan' 'Yugoslavia' 'Peru'\n",
      " 'Outlying-US(Guam-USVI-etc)' 'Scotland' 'Trinadad&Tobago' 'Greece'\n",
      " 'Nicaragua' 'Vietnam' 'Hong' 'Ireland' 'Hungary' 'Holand-Netherlands']\n",
      "class : number\n"
     ]
    }
   ],
   "source": [
    "# избавляюсь от пробелов в каждой ячейке таблицы\n",
    "X = X.apply(lambda x: x.str.strip() if x.dtype == \"object\" else x)\n",
    "# Датасет содержит в себе категориальные и числовые признаки\n",
    "# Признаки и их значения:\n",
    "for i in X.columns:\n",
    "    if X[i].dtype == \"object\":\n",
    "        print(i, ':', X[i].unique())\n",
    "    else:\n",
    "        print(i, ': number')"
   ]
  },
  {
   "cell_type": "code",
   "execution_count": 6,
   "metadata": {},
   "outputs": [
    {
     "data": {
      "text/plain": [
       "age               False\n",
       "workclass         False\n",
       "fnlwgt            False\n",
       "education         False\n",
       "education-num     False\n",
       "marital-status    False\n",
       "occupation        False\n",
       "relationship      False\n",
       "race              False\n",
       "sex               False\n",
       "capital-gain      False\n",
       "capital-loss      False\n",
       "hours-per-week    False\n",
       "native-country    False\n",
       "class             False\n",
       "dtype: bool"
      ]
     },
     "execution_count": 6,
     "metadata": {},
     "output_type": "execute_result"
    }
   ],
   "source": [
    "# проверим наличие пустых ячеек\n",
    "X.isnull().any()"
   ]
  },
  {
   "cell_type": "code",
   "execution_count": 7,
   "metadata": {},
   "outputs": [
    {
     "name": "stdout",
     "output_type": "stream",
     "text": [
      "workclass\n",
      "5.7307235575938735\n",
      "occupation\n",
      "5.751197739650301\n",
      "native-country\n",
      "1.7546374022357807\n"
     ]
    }
   ],
   "source": [
    "# как можно заметить, в категориальных столбцах присутствует значение '?', будем считать его пропущенным\n",
    "# узнаем как часто он встречается в каждом из столбцов\n",
    "for i in X.columns:\n",
    "    if X[i].dtype ==\"object\":\n",
    "        if '?' in X[i].value_counts():\n",
    "            print(i)\n",
    "            print(X[i].value_counts()['?'] / X[i].value_counts().sum() * 100)"
   ]
  },
  {
   "cell_type": "code",
   "execution_count": 8,
   "metadata": {},
   "outputs": [],
   "source": [
    "X.loc[X['workclass'] == '?', 'workclass'] = X['workclass'].mode().iloc[0]\n",
    "X.loc[X['occupation'] == '?', 'occupation'] = X['occupation'].mode().iloc[0]\n",
    "X.loc[X['native-country'] == '?', 'native-country'] = X['native-country'].mode().iloc[0]"
   ]
  },
  {
   "cell_type": "code",
   "execution_count": 9,
   "metadata": {},
   "outputs": [],
   "source": [
    "X.drop('fnlwgt', inplace=True, axis=1)"
   ]
  },
  {
   "cell_type": "code",
   "execution_count": 10,
   "metadata": {},
   "outputs": [
    {
     "name": "stdout",
     "output_type": "stream",
     "text": [
      "['workclass', 'education', 'marital-status', 'occupation', 'relationship', 'race', 'sex', 'native-country']\n"
     ]
    }
   ],
   "source": [
    "to_delete = []\n",
    "for column in X.columns:\n",
    "    if X[column].dtype != \"object\":\n",
    "        continue\n",
    "    to_delete.append(column)\n",
    "print(to_delete)\n",
    "\n",
    "for i in to_delete:\n",
    "    X_process = pd.get_dummies(X[i])\n",
    "    X = pd.concat((X, X_process), axis=1)\n",
    "    X = X.drop(i, axis=1)\n",
    "X.drop('class', inplace=True, axis=1)"
   ]
  },
  {
   "cell_type": "code",
   "execution_count": 11,
   "metadata": {},
   "outputs": [
    {
     "data": {
      "text/html": [
       "<div>\n",
       "<style scoped>\n",
       "    .dataframe tbody tr th:only-of-type {\n",
       "        vertical-align: middle;\n",
       "    }\n",
       "\n",
       "    .dataframe tbody tr th {\n",
       "        vertical-align: top;\n",
       "    }\n",
       "\n",
       "    .dataframe thead th {\n",
       "        text-align: right;\n",
       "    }\n",
       "</style>\n",
       "<table border=\"1\" class=\"dataframe\">\n",
       "  <thead>\n",
       "    <tr style=\"text-align: right;\">\n",
       "      <th></th>\n",
       "      <th>age</th>\n",
       "      <th>education-num</th>\n",
       "      <th>capital-gain</th>\n",
       "      <th>capital-loss</th>\n",
       "      <th>hours-per-week</th>\n",
       "      <th>Federal-gov</th>\n",
       "      <th>Local-gov</th>\n",
       "      <th>Never-worked</th>\n",
       "      <th>Private</th>\n",
       "      <th>Self-emp-inc</th>\n",
       "      <th>...</th>\n",
       "      <th>Portugal</th>\n",
       "      <th>Puerto-Rico</th>\n",
       "      <th>Scotland</th>\n",
       "      <th>South</th>\n",
       "      <th>Taiwan</th>\n",
       "      <th>Thailand</th>\n",
       "      <th>Trinadad&amp;Tobago</th>\n",
       "      <th>United-States</th>\n",
       "      <th>Vietnam</th>\n",
       "      <th>Yugoslavia</th>\n",
       "    </tr>\n",
       "  </thead>\n",
       "  <tbody>\n",
       "    <tr>\n",
       "      <th>count</th>\n",
       "      <td>48842.000000</td>\n",
       "      <td>48842.000000</td>\n",
       "      <td>48842.000000</td>\n",
       "      <td>48842.000000</td>\n",
       "      <td>48842.000000</td>\n",
       "      <td>48842.000000</td>\n",
       "      <td>48842.000000</td>\n",
       "      <td>48842.000000</td>\n",
       "      <td>48842.000000</td>\n",
       "      <td>48842.000000</td>\n",
       "      <td>...</td>\n",
       "      <td>48842.000000</td>\n",
       "      <td>48842.000000</td>\n",
       "      <td>48842.000000</td>\n",
       "      <td>48842.000000</td>\n",
       "      <td>48842.000000</td>\n",
       "      <td>48842.000000</td>\n",
       "      <td>48842.000000</td>\n",
       "      <td>48842.000000</td>\n",
       "      <td>48842.000000</td>\n",
       "      <td>48842.000000</td>\n",
       "    </tr>\n",
       "    <tr>\n",
       "      <th>mean</th>\n",
       "      <td>0.296487</td>\n",
       "      <td>0.605206</td>\n",
       "      <td>0.010791</td>\n",
       "      <td>0.020088</td>\n",
       "      <td>0.402269</td>\n",
       "      <td>0.029319</td>\n",
       "      <td>0.064207</td>\n",
       "      <td>0.000205</td>\n",
       "      <td>0.751505</td>\n",
       "      <td>0.034704</td>\n",
       "      <td>...</td>\n",
       "      <td>0.001372</td>\n",
       "      <td>0.003767</td>\n",
       "      <td>0.000430</td>\n",
       "      <td>0.002355</td>\n",
       "      <td>0.001331</td>\n",
       "      <td>0.000614</td>\n",
       "      <td>0.000553</td>\n",
       "      <td>0.914971</td>\n",
       "      <td>0.001761</td>\n",
       "      <td>0.000471</td>\n",
       "    </tr>\n",
       "    <tr>\n",
       "      <th>std</th>\n",
       "      <td>0.187815</td>\n",
       "      <td>0.171398</td>\n",
       "      <td>0.074521</td>\n",
       "      <td>0.092517</td>\n",
       "      <td>0.126443</td>\n",
       "      <td>0.168701</td>\n",
       "      <td>0.245124</td>\n",
       "      <td>0.014307</td>\n",
       "      <td>0.432145</td>\n",
       "      <td>0.183030</td>\n",
       "      <td>...</td>\n",
       "      <td>0.037012</td>\n",
       "      <td>0.061263</td>\n",
       "      <td>0.020731</td>\n",
       "      <td>0.048467</td>\n",
       "      <td>0.036457</td>\n",
       "      <td>0.024776</td>\n",
       "      <td>0.023506</td>\n",
       "      <td>0.278928</td>\n",
       "      <td>0.041925</td>\n",
       "      <td>0.021695</td>\n",
       "    </tr>\n",
       "    <tr>\n",
       "      <th>min</th>\n",
       "      <td>0.000000</td>\n",
       "      <td>0.000000</td>\n",
       "      <td>0.000000</td>\n",
       "      <td>0.000000</td>\n",
       "      <td>0.000000</td>\n",
       "      <td>0.000000</td>\n",
       "      <td>0.000000</td>\n",
       "      <td>0.000000</td>\n",
       "      <td>0.000000</td>\n",
       "      <td>0.000000</td>\n",
       "      <td>...</td>\n",
       "      <td>0.000000</td>\n",
       "      <td>0.000000</td>\n",
       "      <td>0.000000</td>\n",
       "      <td>0.000000</td>\n",
       "      <td>0.000000</td>\n",
       "      <td>0.000000</td>\n",
       "      <td>0.000000</td>\n",
       "      <td>0.000000</td>\n",
       "      <td>0.000000</td>\n",
       "      <td>0.000000</td>\n",
       "    </tr>\n",
       "    <tr>\n",
       "      <th>25%</th>\n",
       "      <td>0.150685</td>\n",
       "      <td>0.533333</td>\n",
       "      <td>0.000000</td>\n",
       "      <td>0.000000</td>\n",
       "      <td>0.397959</td>\n",
       "      <td>0.000000</td>\n",
       "      <td>0.000000</td>\n",
       "      <td>0.000000</td>\n",
       "      <td>1.000000</td>\n",
       "      <td>0.000000</td>\n",
       "      <td>...</td>\n",
       "      <td>0.000000</td>\n",
       "      <td>0.000000</td>\n",
       "      <td>0.000000</td>\n",
       "      <td>0.000000</td>\n",
       "      <td>0.000000</td>\n",
       "      <td>0.000000</td>\n",
       "      <td>0.000000</td>\n",
       "      <td>1.000000</td>\n",
       "      <td>0.000000</td>\n",
       "      <td>0.000000</td>\n",
       "    </tr>\n",
       "    <tr>\n",
       "      <th>50%</th>\n",
       "      <td>0.273973</td>\n",
       "      <td>0.600000</td>\n",
       "      <td>0.000000</td>\n",
       "      <td>0.000000</td>\n",
       "      <td>0.397959</td>\n",
       "      <td>0.000000</td>\n",
       "      <td>0.000000</td>\n",
       "      <td>0.000000</td>\n",
       "      <td>1.000000</td>\n",
       "      <td>0.000000</td>\n",
       "      <td>...</td>\n",
       "      <td>0.000000</td>\n",
       "      <td>0.000000</td>\n",
       "      <td>0.000000</td>\n",
       "      <td>0.000000</td>\n",
       "      <td>0.000000</td>\n",
       "      <td>0.000000</td>\n",
       "      <td>0.000000</td>\n",
       "      <td>1.000000</td>\n",
       "      <td>0.000000</td>\n",
       "      <td>0.000000</td>\n",
       "    </tr>\n",
       "    <tr>\n",
       "      <th>75%</th>\n",
       "      <td>0.424658</td>\n",
       "      <td>0.733333</td>\n",
       "      <td>0.000000</td>\n",
       "      <td>0.000000</td>\n",
       "      <td>0.448980</td>\n",
       "      <td>0.000000</td>\n",
       "      <td>0.000000</td>\n",
       "      <td>0.000000</td>\n",
       "      <td>1.000000</td>\n",
       "      <td>0.000000</td>\n",
       "      <td>...</td>\n",
       "      <td>0.000000</td>\n",
       "      <td>0.000000</td>\n",
       "      <td>0.000000</td>\n",
       "      <td>0.000000</td>\n",
       "      <td>0.000000</td>\n",
       "      <td>0.000000</td>\n",
       "      <td>0.000000</td>\n",
       "      <td>1.000000</td>\n",
       "      <td>0.000000</td>\n",
       "      <td>0.000000</td>\n",
       "    </tr>\n",
       "    <tr>\n",
       "      <th>max</th>\n",
       "      <td>1.000000</td>\n",
       "      <td>1.000000</td>\n",
       "      <td>1.000000</td>\n",
       "      <td>1.000000</td>\n",
       "      <td>1.000000</td>\n",
       "      <td>1.000000</td>\n",
       "      <td>1.000000</td>\n",
       "      <td>1.000000</td>\n",
       "      <td>1.000000</td>\n",
       "      <td>1.000000</td>\n",
       "      <td>...</td>\n",
       "      <td>1.000000</td>\n",
       "      <td>1.000000</td>\n",
       "      <td>1.000000</td>\n",
       "      <td>1.000000</td>\n",
       "      <td>1.000000</td>\n",
       "      <td>1.000000</td>\n",
       "      <td>1.000000</td>\n",
       "      <td>1.000000</td>\n",
       "      <td>1.000000</td>\n",
       "      <td>1.000000</td>\n",
       "    </tr>\n",
       "  </tbody>\n",
       "</table>\n",
       "<p>8 rows × 104 columns</p>\n",
       "</div>"
      ],
      "text/plain": [
       "                age  education-num  capital-gain  capital-loss  \\\n",
       "count  48842.000000   48842.000000  48842.000000  48842.000000   \n",
       "mean       0.296487       0.605206      0.010791      0.020088   \n",
       "std        0.187815       0.171398      0.074521      0.092517   \n",
       "min        0.000000       0.000000      0.000000      0.000000   \n",
       "25%        0.150685       0.533333      0.000000      0.000000   \n",
       "50%        0.273973       0.600000      0.000000      0.000000   \n",
       "75%        0.424658       0.733333      0.000000      0.000000   \n",
       "max        1.000000       1.000000      1.000000      1.000000   \n",
       "\n",
       "       hours-per-week   Federal-gov     Local-gov  Never-worked       Private  \\\n",
       "count    48842.000000  48842.000000  48842.000000  48842.000000  48842.000000   \n",
       "mean         0.402269      0.029319      0.064207      0.000205      0.751505   \n",
       "std          0.126443      0.168701      0.245124      0.014307      0.432145   \n",
       "min          0.000000      0.000000      0.000000      0.000000      0.000000   \n",
       "25%          0.397959      0.000000      0.000000      0.000000      1.000000   \n",
       "50%          0.397959      0.000000      0.000000      0.000000      1.000000   \n",
       "75%          0.448980      0.000000      0.000000      0.000000      1.000000   \n",
       "max          1.000000      1.000000      1.000000      1.000000      1.000000   \n",
       "\n",
       "       Self-emp-inc  ...      Portugal   Puerto-Rico      Scotland  \\\n",
       "count  48842.000000  ...  48842.000000  48842.000000  48842.000000   \n",
       "mean       0.034704  ...      0.001372      0.003767      0.000430   \n",
       "std        0.183030  ...      0.037012      0.061263      0.020731   \n",
       "min        0.000000  ...      0.000000      0.000000      0.000000   \n",
       "25%        0.000000  ...      0.000000      0.000000      0.000000   \n",
       "50%        0.000000  ...      0.000000      0.000000      0.000000   \n",
       "75%        0.000000  ...      0.000000      0.000000      0.000000   \n",
       "max        1.000000  ...      1.000000      1.000000      1.000000   \n",
       "\n",
       "              South        Taiwan      Thailand  Trinadad&Tobago  \\\n",
       "count  48842.000000  48842.000000  48842.000000     48842.000000   \n",
       "mean       0.002355      0.001331      0.000614         0.000553   \n",
       "std        0.048467      0.036457      0.024776         0.023506   \n",
       "min        0.000000      0.000000      0.000000         0.000000   \n",
       "25%        0.000000      0.000000      0.000000         0.000000   \n",
       "50%        0.000000      0.000000      0.000000         0.000000   \n",
       "75%        0.000000      0.000000      0.000000         0.000000   \n",
       "max        1.000000      1.000000      1.000000         1.000000   \n",
       "\n",
       "       United-States       Vietnam    Yugoslavia  \n",
       "count   48842.000000  48842.000000  48842.000000  \n",
       "mean        0.914971      0.001761      0.000471  \n",
       "std         0.278928      0.041925      0.021695  \n",
       "min         0.000000      0.000000      0.000000  \n",
       "25%         1.000000      0.000000      0.000000  \n",
       "50%         1.000000      0.000000      0.000000  \n",
       "75%         1.000000      0.000000      0.000000  \n",
       "max         1.000000      1.000000      1.000000  \n",
       "\n",
       "[8 rows x 104 columns]"
      ]
     },
     "execution_count": 11,
     "metadata": {},
     "output_type": "execute_result"
    }
   ],
   "source": [
    "# normalization\n",
    "from sklearn.preprocessing import MinMaxScaler\n",
    "\n",
    "col = []\n",
    "for column in X.columns:\n",
    "    if X[column].dtype not in [\"object\", \"bool\"]:\n",
    "        col.append(column)\n",
    "X[col] = MinMaxScaler().fit_transform(X[col].values)\n",
    "X.describe()"
   ]
  },
  {
   "cell_type": "markdown",
   "metadata": {},
   "source": [
    "### Разобьем данные на обучающую (65%) и тестовую (35%) выборки:"
   ]
  },
  {
   "cell_type": "code",
   "execution_count": 12,
   "metadata": {},
   "outputs": [],
   "source": [
    "from sklearn.model_selection import train_test_split\n",
    "\n",
    "X_train, X_test, y_train, y_test = train_test_split(X, y, test_size=0.35, random_state=42, stratify=y)"
   ]
  },
  {
   "cell_type": "markdown",
   "metadata": {},
   "source": [
    "### Подбор гиперпараметров\n",
    "#### В качестве солвера берем Adam\n",
    "#### В качестве функции активации - ReLu"
   ]
  },
  {
   "cell_type": "code",
   "execution_count": 13,
   "metadata": {},
   "outputs": [],
   "source": [
    "from sklearn.neural_network import MLPClassifier\n",
    "from sklearn.metrics import accuracy_score\n",
    "from tqdm import tqdm"
   ]
  },
  {
   "cell_type": "markdown",
   "metadata": {},
   "source": [
    "#### Однослойная сеть"
   ]
  },
  {
   "cell_type": "code",
   "execution_count": 14,
   "metadata": {},
   "outputs": [
    {
     "name": "stderr",
     "output_type": "stream",
     "text": [
      "100%|██████████| 25/25 [17:13<00:00, 41.34s/it]\n"
     ]
    }
   ],
   "source": [
    "hidden_layer_size = np.linspace(1, 100, 25)\n",
    "hidden_layer_size = hidden_layer_size.astype(int)\n",
    "test_err, train_err = [], []\n",
    "\n",
    "for size in tqdm(hidden_layer_size):\n",
    "    model = MLPClassifier(hidden_layer_sizes=(size), \n",
    "                          solver='adam',\n",
    "                          activation='relu',\n",
    "                          max_iter=1000,\n",
    "                          random_state=777)\n",
    "    model.fit(X_train, y_train)\n",
    "\n",
    "    y_train_pred = model.predict(X_train)\n",
    "    y_test_pred = model.predict(X_test)\n",
    "    \n",
    "    train_err.append(np.mean(y_train != y_train_pred))\n",
    "    test_err.append(np.mean(y_test != y_test_pred))"
   ]
  },
  {
   "cell_type": "code",
   "execution_count": 16,
   "metadata": {},
   "outputs": [
    {
     "name": "stdout",
     "output_type": "stream",
     "text": [
      "Train: Min error=0.11197908463791854, number of neurons=79\n",
      "Test: Min error=0.1454226381983036, number of neurons=5\n"
     ]
    },
    {
     "data": {
      "image/png": "[encoded data removed]",
      "text/plain": [
       "<Figure size 432x288 with 1 Axes>"
      ]
     },
     "metadata": {
      "needs_background": "light"
     },
     "output_type": "display_data"
    }
   ],
   "source": [
    "plt.plot(hidden_layer_size, train_err, 'b-o', label = 'train')\n",
    "plt.plot(hidden_layer_size, test_err, 'r-o', label = 'test')\n",
    "plt.xlim([np.min(hidden_layer_size), np.max(hidden_layer_size)])\n",
    "plt.title('Error')\n",
    "plt.xlabel('hidden_layer_size')\n",
    "plt.ylabel('error')\n",
    "plt.legend()\n",
    "\n",
    "print(f'Train: Min error={np.min(train_err)}, number of neurons={hidden_layer_size[np.argmin(train_err)]}')\n",
    "print(f'Test: Min error={np.min(test_err)}, number of neurons={hidden_layer_size[np.argmin(test_err)]}')"
   ]
  },
  {
   "cell_type": "markdown",
   "metadata": {},
   "source": [
    "#### Двуслойная сеть"
   ]
  },
  {
   "cell_type": "code",
   "execution_count": 30,
   "metadata": {},
   "outputs": [
    {
     "name": "stderr",
     "output_type": "stream",
     "text": [
      "100%|██████████| 5/5 [32:18<00:00, 387.61s/it]\n"
     ]
    }
   ],
   "source": [
    "N = 5\n",
    "sizes = np.linspace(1, 100, N).astype(int)\n",
    "test_err = np.zeros((N, N))\n",
    "train_err = np.zeros((N, N))\n",
    "\n",
    "for i, size_1 in enumerate(tqdm(sizes)):\n",
    "    for j, size_2 in enumerate(sizes):\n",
    "        model = MLPClassifier(hidden_layer_sizes=(size_1, size_2), \n",
    "                              solver='adam',\n",
    "                              activation='relu',\n",
    "                              max_iter=1000,\n",
    "                              random_state=777)\n",
    "        model.fit(X_train, y_train)\n",
    "\n",
    "        y_train_pred = model.predict(X_train)\n",
    "        y_test_pred = model.predict(X_test)\n",
    "\n",
    "        train_err[i][j] = np.mean(y_train != y_train_pred)\n",
    "        test_err[i][j] = np.mean(y_test != y_test_pred)"
   ]
  },
  {
   "cell_type": "code",
   "execution_count": 31,
   "metadata": {},
   "outputs": [
    {
     "name": "stdout",
     "output_type": "stream",
     "text": [
      "Train: Min error=0.0858663810753772, number of neurons=75,100\n",
      "Test: Min error=0.14846446329336063, number of neurons=1,75\n"
     ]
    }
   ],
   "source": [
    "train_min_loss = np.where(train_err == np.min(train_err))\n",
    "test_min_loss = np.where(test_err == np.min(test_err))\n",
    "\n",
    "print(f'Train: Min error={np.min(train_err)}, number of neurons={sizes[train_min_loss[0][0]]},{sizes[train_min_loss[1][0]]}')\n",
    "print(f'Test: Min error={np.min(test_err)}, number of neurons={sizes[test_min_loss[0][0]]},{sizes[test_min_loss[1][0]]}')"
   ]
  },
  {
   "cell_type": "markdown",
   "metadata": {},
   "source": [
    "#### Как можно видеть, самый маленький результат ошибки на тестовой выборке достигается в однослойной сети при 5 нейронах. Из этого можно сделать вывод о том, что задача в принципе некорректна для решения нейронной сетью. ИЛИ требуется более серьезный препроцессинг данных. По моему мнению, ключевая проблема в том, что классы распределены неравномерно, то есть при выравнивании классов картина может измениться в лучшую сторону."
   ]
  },
  {
   "cell_type": "markdown",
   "metadata": {},
   "source": [
    "### Подбор параметра регуляризации"
   ]
  },
  {
   "cell_type": "markdown",
   "metadata": {},
   "source": [
    "#### Однослойная сеть"
   ]
  },
  {
   "cell_type": "code",
   "execution_count": 32,
   "metadata": {},
   "outputs": [
    {
     "name": "stderr",
     "output_type": "stream",
     "text": [
      "100%|██████████| 50/50 [09:23<00:00, 11.26s/it]\n"
     ]
    }
   ],
   "source": [
    "alphas = np.logspace(-5, 5, 50)\n",
    "test_err, train_err = [], []\n",
    "\n",
    "for alpha in tqdm(alphas):\n",
    "    mlp_model = MLPClassifier(alpha = alpha, hidden_layer_sizes = (5), \n",
    "                              solver='adam', activation='relu', max_iter=1000, random_state=777)\n",
    "    \n",
    "    mlp_model.fit(X_train, y_train)\n",
    "\n",
    "    y_train_pred = mlp_model.predict(X_train)\n",
    "    y_test_pred = mlp_model.predict(X_test)\n",
    "    \n",
    "    train_err.append(np.mean(y_train != y_train_pred))\n",
    "    test_err.append(np.mean(y_test != y_test_pred))"
   ]
  },
  {
   "cell_type": "code",
   "execution_count": 33,
   "metadata": {},
   "outputs": [
    {
     "name": "stdout",
     "output_type": "stream",
     "text": [
      "Train: Min error=0.14133618924622798, alpha=0.0071968567300115215\n",
      "Test: Min error=0.14489616847031295, alpha=0.018420699693267165\n"
     ]
    },
    {
     "data": {
      "image/png": "[encoded data removed]",
      "text/plain": [
       "<Figure size 432x288 with 1 Axes>"
      ]
     },
     "metadata": {
      "needs_background": "light"
     },
     "output_type": "display_data"
    }
   ],
   "source": [
    "plt.semilogx(alphas, train_err, 'b-o', label = 'train')\n",
    "plt.semilogx(alphas, test_err, 'r-o', label = 'test')\n",
    "plt.xlim([np.min(alphas), np.max(alphas)])\n",
    "plt.title('Error')\n",
    "plt.xlabel('alpha')\n",
    "plt.ylabel('error')\n",
    "plt.legend()\n",
    "\n",
    "print(f'Train: Min error={np.min(train_err)}, alpha={alphas[np.argmin(train_err)]}')\n",
    "print(f'Test: Min error={np.min(test_err)}, alpha={alphas[np.argmin(test_err)]}')"
   ]
  },
  {
   "cell_type": "markdown",
   "metadata": {},
   "source": [
    "#### Двуслойная сеть"
   ]
  },
  {
   "cell_type": "code",
   "execution_count": 34,
   "metadata": {},
   "outputs": [
    {
     "name": "stderr",
     "output_type": "stream",
     "text": [
      "100%|██████████| 50/50 [06:43<00:00,  8.07s/it]\n"
     ]
    }
   ],
   "source": [
    "alphas = np.logspace(-5, 5, 50)\n",
    "test_err, train_err = [], []\n",
    "\n",
    "for alpha in tqdm(alphas):\n",
    "    mlp_model = MLPClassifier(alpha = alpha, hidden_layer_sizes = (1, 75), \n",
    "                              solver='adam', activation='relu', max_iter=1000, random_state=777)\n",
    "    \n",
    "    mlp_model.fit(X_train, y_train)\n",
    "\n",
    "    y_train_pred = mlp_model.predict(X_train)\n",
    "    y_test_pred = mlp_model.predict(X_test)\n",
    "    \n",
    "    train_err.append(np.mean(y_train != y_train_pred))\n",
    "    test_err.append(np.mean(y_test != y_test_pred))"
   ]
  },
  {
   "cell_type": "code",
   "execution_count": 35,
   "metadata": {},
   "outputs": [
    {
     "name": "stdout",
     "output_type": "stream",
     "text": [
      "Train: Min error=0.14880146155542257, alpha=0.002811768697974231\n",
      "Test: Min error=0.14758701374670957, alpha=0.19306977288832497\n"
     ]
    },
    {
     "data": {
      "image/png": "[encoded data removed]",
      "text/plain": [
       "<Figure size 432x288 with 1 Axes>"
      ]
     },
     "metadata": {
      "needs_background": "light"
     },
     "output_type": "display_data"
    }
   ],
   "source": [
    "plt.semilogx(alphas, train_err, 'b-o', label = 'train')\n",
    "plt.semilogx(alphas, test_err, 'r-o', label = 'test')\n",
    "plt.xlim([np.min(alphas), np.max(alphas)])\n",
    "plt.title('Error')\n",
    "plt.xlabel('alpha')\n",
    "plt.ylabel('error')\n",
    "plt.legend()\n",
    "\n",
    "print(f'Train: Min error={np.min(train_err)}, alpha={alphas[np.argmin(train_err)]}')\n",
    "print(f'Test: Min error={np.min(test_err)}, alpha={alphas[np.argmin(test_err)]}')"
   ]
  },
  {
   "cell_type": "markdown",
   "metadata": {},
   "source": [
    "#### Лучшая модель"
   ]
  },
  {
   "cell_type": "code",
   "execution_count": 36,
   "metadata": {},
   "outputs": [],
   "source": [
    "model = MLPClassifier(alpha = 0.018420699693267165, hidden_layer_sizes = (5), \n",
    "                      solver='adam', activation='relu', max_iter=1000, random_state=777)"
   ]
  },
  {
   "cell_type": "markdown",
   "metadata": {},
   "source": [
    "### Матрица рассогласования"
   ]
  },
  {
   "cell_type": "code",
   "execution_count": 38,
   "metadata": {},
   "outputs": [
    {
     "name": "stderr",
     "output_type": "stream",
     "text": [
      "C:\\Users\\User\\anaconda3\\envs\\ml\\lib\\site-packages\\sklearn\\utils\\deprecation.py:87: FutureWarning: Function plot_confusion_matrix is deprecated; Function `plot_confusion_matrix` is deprecated in 1.0 and will be removed in 1.2. Use one of the class methods: ConfusionMatrixDisplay.from_predictions or ConfusionMatrixDisplay.from_estimator.\n",
      "  warnings.warn(msg, category=FutureWarning)\n"
     ]
    },
    {
     "data": {
      "text/plain": [
       "<sklearn.metrics._plot.confusion_matrix.ConfusionMatrixDisplay at 0x2434bdf3850>"
      ]
     },
     "execution_count": 38,
     "metadata": {},
     "output_type": "execute_result"
    },
    {
     "data": {
      "image/png": "[encoded data removed]",
      "text/plain": [
       "<Figure size 432x288 with 2 Axes>"
      ]
     },
     "metadata": {
      "needs_background": "light"
     },
     "output_type": "display_data"
    }
   ],
   "source": [
    "from sklearn.metrics import plot_confusion_matrix\n",
    "\n",
    "model.fit(X_train, y_train)\n",
    "\n",
    "plot_confusion_matrix(model, X_test, y_test) "
   ]
  },
  {
   "cell_type": "markdown",
   "metadata": {},
   "source": [
    "#### Выводы\n",
    "##### Использование нейронной сети не дало явных преимуществ по сравнению с использованным в первой домашней работе kNN. Проблема заключается в явном преобладании нулевого класса (76%)\n",
    "##### Тем не менее были выбраны оптимальные гиперпараметры для однослойной и двуслойной нейронных сетей.\n",
    "##### Однослойная - 5 нейронов, альфа = 0.0184, ошибка на тестовой выборке - 0.14489\n",
    "##### Двуслойная - (1, 75), альфа = 0.193, ошибка на тестовой выборке - 0.1475\n",
    "##### Заметим, что с ростом коэффициента регуляризации растет ошибка, что говорит о том, что после обучения у модели не возникает больших значения весовых коэффициентов, а значит нет переобучения."
   ]
  },
  {
   "cell_type": "markdown",
   "metadata": {},
   "source": []
  }
 ],
 "metadata": {
  "interpreter": {
   "hash": "641c9771352f0f5a731c80080fe0d7a4e8d9c2b8d2cd0a90c198d2fd82280dac"
  },
  "kernelspec": {
   "display_name": "Python 3.8.12 64-bit ('ml': conda)",
   "language": "python",
   "name": "python3"
  },
  "language_info": {
   "codemirror_mode": {
    "name": "ipython",
    "version": 3
   },
   "file_extension": ".py",
   "mimetype": "text/x-python",
   "name": "python",
   "nbconvert_exporter": "python",
   "pygments_lexer": "ipython3",
   "version": "3.8.12"
  },
  "orig_nbformat": 4
 },
 "nbformat": 4,
 "nbformat_minor": 2
}
